{
 "cells": [
  {
   "cell_type": "code",
   "execution_count": 61,
   "metadata": {
    "hide_input": false
   },
   "outputs": [],
   "source": [
    "import requests\n",
    "import xml.etree.ElementTree as xml\n",
    "from IPython.display import HTML, display\n",
    "from Bio import Entrez\n",
    "\n",
    "#email Set the Entrez email parameter (default is not set).\n",
    "Entrez.email = \"great_team@hackathon.ncbi.org\"\n",
    "\n",
    "#tool Set the Entrez tool parameter (default is biopython).\n",
    "Entrez.tool = \"hackathon_examples\"\n",
    "\n",
    "def get_nuccore_id(uid):\n",
    "    \"\"\"\n",
    "    Get nuccore id by its refseq id.\n",
    "    \"\"\"\n",
    "    url = 'https://eutils.ncbi.nlm.nih.gov/entrez/eutils/elink.fcgi'\n",
    "    params = {'dbfrom': 'assembly', 'db':'nuccore', 'retmode':'json', 'id': uid}\n",
    "    r = requests.get(url, params=params)\n",
    "    if r.status_code != 200:\n",
    "        raise Exception(\"Cant nuccore id for specified assembly\")\n",
    "    doc = r.json()['linksets'][0]['linksetdbs']\n",
    "    for link in doc:\n",
    "        if link['linkname'] == \"assembly_nuccore_refseq\":\n",
    "            return int(link['links'][0])\n",
    "    else:\n",
    "        return int(doc[0]['links'][0])\n",
    "\n",
    "def list_genes(nuc_id):\n",
    "    \"\"\"\n",
    "    List genes for specified organism nuccore id.\n",
    "    \"\"\"\n",
    "    url = 'https://eutils.ncbi.nlm.nih.gov/entrez/eutils/elink.fcgi'\n",
    "    params = {'dbfrom':'nuccore', 'db': 'gene', 'retmode': 'json', 'id':nuc_id}\n",
    "    r = requests.get(url, params=params)\n",
    "    if r.status_code != 200:\n",
    "        raise Exception(\"Cant find annotation\")\n",
    "    return r.json()['linksets'][0]['linksetdbs'][0]['links']"
   ]
  },
  {
   "cell_type": "code",
   "execution_count": 62,
   "metadata": {
    "hide_input": false
   },
   "outputs": [],
   "source": [
    "accession = 'GCF_000013425.1'  # Organism Assembly"
   ]
  },
  {
   "cell_type": "code",
   "execution_count": 100,
   "metadata": {
    "hide_input": false
   },
   "outputs": [],
   "source": [
    "def annotate(accession):\n",
    "    params = {'release':accession}\n",
    "    r = requests.get(\n",
    "        'https://www.ncbi.nlm.nih.gov/projects/r_gencoll/asm4portal/gc_assembly_svc.cgi',\n",
    "        params=params)\n",
    "    if r.status_code != 200:\n",
    "        raise Exception(\"Cant find assembly\")\n",
    "    doc = r.content.decode('utf-8')\n",
    "    root = xml.fromstring(doc)\n",
    "    refseq_id = int(root.attrib['uid'])\n",
    "    header = root.find('header')\n",
    "    organism_name = header.find('species-organism').text\n",
    "\n",
    "    html = \"<h1>\" + organism_name + \"</h1>\"\n",
    "    \n",
    "    #search = eutils.client.Client().esearch(db=\"pubmed\",term=organism_name)\n",
    "    \n",
    "    #html += \"<p>\" + str(len(search.ids)) + \" pubmeds found</p>\" \n",
    "\n",
    "    nuccore_id = get_nuccore_id(refseq_id)\n",
    "\n",
    "    genes = list_genes(nuccore_id)\n",
    "\n",
    "    html += \"<h3> Genes: </h3>\"\n",
    "\n",
    "    html += \"<table>\"\n",
    "    \n",
    "    max_show = 10\n",
    "\n",
    "    html += \"<tr>\"\n",
    "        \n",
    "    html += \"<th> Gene Locus </th>\"\n",
    "    html += \"<th> Protein </th>\"\n",
    "    html += \"<th> Protein sequence </th>\"\n",
    "    html += \"</tr>\"\n",
    "    for gene in genes[0:max_show]:\n",
    "        egs=Entrez.efetch(db='gene', id=gene)\n",
    "        handle = Entrez.efetch(db=\"gene\", id=gene, retmode=\"xml\")\n",
    "        root = xml.fromstring(handle.read())\n",
    "        gene_node = root.find('Entrezgene')\n",
    "        locus = gene_node.find('Entrezgene_gene').find('Gene-ref').find('Gene-ref_locus-tag').text\n",
    "        prot = gene_node.find('Entrezgene_prot').find('Prot-ref').find('Prot-ref_name').find('Prot-ref_name_E').text\n",
    "        \n",
    "        loc_node = gene_node.find('Entrezgene_locus')\n",
    "        com = loc_node.find('Gene-commentary')\n",
    "        prod = com.find('Gene-commentary_products')\n",
    "        prod_com = prod.find('Gene-commentary')\n",
    "        prod_seq = prod_com.find('Gene-commentary_accession').text\n",
    "        prod_ver = prod_com.find('Gene-commentary_version').text\n",
    "        html += \"<tr>\"\n",
    "        \n",
    "        html += \"<td>\" + locus + \"</td>\"\n",
    "        html += \"<td>\" + prot + \"</td>\"\n",
    "        html += \"<td>\" + prod_seq + \".\" + prod_ver + \"</td>\"\n",
    "        html += \"</tr>\"\n",
    "    html += \"</table>\"\n",
    "\n",
    "    if len(genes) > max_show:\n",
    "        html += \"<p>And \" + str(len(genes) - max_show) + \" more... </p>\"\n",
    "\n",
    "    display(HTML(html))"
   ]
  },
  {
   "cell_type": "code",
   "execution_count": 101,
   "metadata": {
    "scrolled": true
   },
   "outputs": [
    {
     "data": {
      "text/html": [
       "<h1>Staphylococcus aureus</h1><h3> Genes: </h3><table><tr><th> Gene Locus </th><th> Protein </th><th> Protein sequence </th></tr><tr><td>SAOUHSC_3042a</td><td>SAOUHSC_13820</td><td>YP_008530245.1</td></tr><tr><td>SAOUHSC_03037a</td><td>membrane protein</td><td>YP_008530244.1</td></tr><tr><td>SAOUHSC_02512a</td><td>30S ribosomal protein S10</td><td>YP_008530243.1</td></tr><tr><td>SAOUHSC_01761a</td><td>membrane protein</td><td>YP_008530242.1</td></tr><tr><td>SAOUHSC_1342a</td><td>large-conductance mechanosensitive channel</td><td>YP_008530241.1</td></tr><tr><td>SAOUHSC_1307a</td><td>hypothetical protein</td><td>YP_008530240.1</td></tr><tr><td>SAOUHSC_01055a</td><td>membrane protein</td><td>YP_008530239.1</td></tr><tr><td>SAOUHSC_00381a</td><td>hypothetical protein</td><td>YP_008530238.1</td></tr><tr><td>SAOUHSC_02009</td><td>hypothetical protein</td><td>YP_500506.1</td></tr><tr><td>SAOUHSC_02008</td><td>hypothetical protein</td><td>YP_500505.1</td></tr></table><p>And 2862 more... </p>"
      ],
      "text/plain": [
       "<IPython.core.display.HTML object>"
      ]
     },
     "metadata": {},
     "output_type": "display_data"
    }
   ],
   "source": [
    "annotate(accession)"
   ]
  },
  {
   "cell_type": "code",
   "execution_count": null,
   "metadata": {},
   "outputs": [],
   "source": []
  }
 ],
 "metadata": {
  "kernelspec": {
   "display_name": "Python 3",
   "language": "python",
   "name": "python3"
  },
  "language_info": {
   "codemirror_mode": {
    "name": "ipython",
    "version": 3
   },
   "file_extension": ".py",
   "mimetype": "text/x-python",
   "name": "python",
   "nbconvert_exporter": "python",
   "pygments_lexer": "ipython3",
   "version": "3.5.2"
  }
 },
 "nbformat": 4,
 "nbformat_minor": 2
}
