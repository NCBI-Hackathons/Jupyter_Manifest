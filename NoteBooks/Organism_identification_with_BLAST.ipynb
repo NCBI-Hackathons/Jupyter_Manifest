{
 "cells": [
  {
   "cell_type": "markdown",
   "metadata": {},
   "source": [
    "# Organism identification using BLAST"
   ]
  },
  {
   "cell_type": "markdown",
   "metadata": {},
   "source": [
    "Initialize some variables with file locations, parameters etc"
   ]
  },
  {
   "cell_type": "code",
   "execution_count": 9,
   "metadata": {},
   "outputs": [
    {
     "name": "stdout",
     "output_type": "stream",
     "text": [
      "Requirement already satisfied: Biopython in /home/nbcommon/anaconda3_410/lib/python3.5/site-packages\r\n",
      "Requirement already satisfied: numpy in /home/nbcommon/anaconda3_410/lib/python3.5/site-packages (from Biopython)\r\n"
     ]
    }
   ],
   "source": [
    "!pip install Biopython"
   ]
  },
  {
   "cell_type": "code",
   "execution_count": 10,
   "metadata": {
    "collapsed": true
   },
   "outputs": [],
   "source": [
    "input_path = 'Test_sequences/test_file.fasta'\n",
    "# Try test_file_1.fasta or test_file_2.fasta in the next line\n",
    "# If you want to use your own files, put the full URL of publicy accessible file here.\n",
    "# Don't forget to change organism_subgroup accordingly, and don't leave it empty or too\n",
    "# vague (like Bacteria) - BLAST will timeout if the amount of work is too high.\n",
    "input_url = 'https://github.com/NCBI-Hackathons/NCBI_Jupyter/raw/master/NoteBooks/TestData/test_file.fasta'\n",
    "organism_subgroup = '\"Staphylococcus aureus\"[orgn]'\n",
    "save_blast_run = False\n",
    "# If you set save_blast_run to True, make sure that you have writeable directory\n",
    "# Test_sequences in your Jupyther space, otherwise intermediate results can't be saved\n",
    "blast_result_path = 'Test_sequences/blast.xml'\n",
    "use_best_homogeneity_filter = True"
   ]
  },
  {
   "cell_type": "markdown",
   "metadata": {},
   "source": [
    "Run BLAST of your sequence against a suspected taxonomy branch (faster)"
   ]
  },
  {
   "cell_type": "code",
   "execution_count": 11,
   "metadata": {
    "collapsed": true
   },
   "outputs": [],
   "source": [
    "from Bio.Blast.NCBIWWW import qblast"
   ]
  },
  {
   "cell_type": "code",
   "execution_count": 12,
   "metadata": {
    "collapsed": true
   },
   "outputs": [],
   "source": [
    "#f = open(input_path)\n",
    "import urllib\n",
    "f = urllib.request.urlopen(input_url)\n",
    "data = f.read()"
   ]
  },
  {
   "cell_type": "markdown",
   "metadata": {},
   "source": [
    "Use 'entrez_query' with 'Staphylococcus aureus' (variable organism_subgroup) in organism to narrow down the search. It takes several minutes (10-15) to run one megabase query against it."
   ]
  },
  {
   "cell_type": "code",
   "execution_count": 13,
   "metadata": {
    "collapsed": true
   },
   "outputs": [],
   "source": [
    "res = qblast('blastn', 'nr', data, entrez_query=organism_subgroup)"
   ]
  },
  {
   "cell_type": "markdown",
   "metadata": {},
   "source": [
    "Preserve the XML results"
   ]
  },
  {
   "cell_type": "code",
   "execution_count": 14,
   "metadata": {
    "collapsed": true
   },
   "outputs": [],
   "source": [
    "if save_blast_run:\n",
    "    res_str = res.read()\n",
    "    with open(blast_result_path,'w') as f:\n",
    "        f.write(res_str)"
   ]
  },
  {
   "cell_type": "markdown",
   "metadata": {},
   "source": [
    "Parse the results"
   ]
  },
  {
   "cell_type": "code",
   "execution_count": 15,
   "metadata": {
    "collapsed": true
   },
   "outputs": [],
   "source": [
    "from Bio.Blast import NCBIXML"
   ]
  },
  {
   "cell_type": "markdown",
   "metadata": {},
   "source": [
    "Reopen the handle as if it came from BLAST. We could use res instead of result_handle, but we saved it to try different procedures over it.\n",
    "\n",
    "Next we find the best hit for every sequence in the query (they are all in their own blast_records) and record its id and organism. The organism with best total score is the closest to our query."
   ]
  },
  {
   "cell_type": "code",
   "execution_count": 16,
   "metadata": {
    "collapsed": true
   },
   "outputs": [],
   "source": [
    "def best_organisms(result_handle, use_best_homogeneity_filter):\n",
    "    seqs_to_total_best_bits = {}\n",
    "    seqs_to_def = {}\n",
    "    blast_records = NCBIXML.parse(result_handle)\n",
    "    for blast_record in blast_records:\n",
    "        best_bits = 0\n",
    "        best_id = \"\"\n",
    "        best_def = \"\"\n",
    "        best_hits = []\n",
    "        for aln in blast_record.alignments:\n",
    "            # This is an alignment between blast_record.query_id and aln.hit_id\n",
    "            total_bits = 0\n",
    "            total_query_len = 0\n",
    "            total_identity = 0\n",
    "            for hsp in aln.hsps:\n",
    "                if hsp.expect < E_VALUE_THRESH:\n",
    "                    total_bits += hsp.bits\n",
    "                    total_query_len += hsp.query_end - hsp.query_start + 1\n",
    "                    total_identity  += hsp.identities\n",
    "            if total_query_len == 0: continue\n",
    "            best_hits.append((total_bits, total_identity/total_query_len, aln.hit_id, aln.hit_def))\n",
    "            if total_bits > best_bits:\n",
    "                best_bits = total_bits\n",
    "                best_id   = aln.hit_id\n",
    "                best_def  = aln.hit_def\n",
    "        best_hits.sort(reverse=True)\n",
    "        # Here we have all hits of a given contig, blast_record.query_id sorted in\n",
    "        # best-first order\n",
    "        # We can analyze if the several best hits are close to each other and thus\n",
    "        # don't differentiate our organism well. We sort out such contigs.\n",
    "        if use_best_homogeneity_filter:\n",
    "            if len(best_hits) == 0: continue\n",
    "            if len(best_hits) > 1:\n",
    "                # if the first 2 hits are too close to each other and their identity score the same\n",
    "                # throw the contig away\n",
    "                if (best_hits[0][0]-best_hits[1][0])/best_hits[0][0] < 0.01 and \\\n",
    "                   (best_hits[0][1]-best_hits[1][1])/best_hits[0][1] < 0.01:\n",
    "                    continue\n",
    "                best_bits = best_hits[0][0]\n",
    "                best_id   = best_hits[0][2]\n",
    "                best_def  = best_hits[0][3]\n",
    "        if best_id == \"\": continue\n",
    "#        seqs_to_best_hits.setdefault(best_id, []).append(best_bits)\n",
    "        seqs_to_def[best_id] = best_def\n",
    "        seqs_to_total_best_bits[best_id] = seqs_to_total_best_bits.get(best_id, 0) + best_bits\n",
    "    return seqs_to_total_best_bits, seqs_to_def\n"
   ]
  },
  {
   "cell_type": "code",
   "execution_count": 17,
   "metadata": {
    "collapsed": true
   },
   "outputs": [],
   "source": [
    "E_VALUE_THRESH = 0.04\n",
    "# This dict maps sequence id to best hits to it\n",
    "#seqs_to_best_hits = {}\n",
    "seqs_to_total_best_bits = {}\n",
    "seqs_to_def = {}\n",
    "if save_blast_run:\n",
    "    with open(blast_result_path) as result_handle:\n",
    "        seqs_to_total_best_bits, seqs_to_def = best_organisms(result_handle, use_best_homogeneity_filter)\n",
    "else:\n",
    "    seqs_to_total_best_bits, seqs_to_def = best_organisms(res, use_best_homogeneity_filter)\n"
   ]
  },
  {
   "cell_type": "code",
   "execution_count": 18,
   "metadata": {},
   "outputs": [
    {
     "name": "stdout",
     "output_type": "stream",
     "text": [
      "Best organisms are:\n",
      "Staphylococcus aureus subsp. aureus strain 5118.N plasmid p5118.Nb, complete sequence with total score: 47419.957200000004\n",
      "Staphylococcus aureus subsp. aureus strain 1625.CO1 plasmid p1625.CO1, complete sequence with total score: 26366.225100000003\n"
     ]
    }
   ],
   "source": [
    "sorted_organisms = []\n",
    "for k, bits in seqs_to_total_best_bits.items():\n",
    "    sorted_organisms.append((bits, k))\n",
    "sorted_organisms.sort(reverse=True)\n",
    "print('Best organisms are:')\n",
    "seq_id = sorted_organisms[0][1] # Best id\n",
    "print(seqs_to_def[seq_id], 'with total score:', seqs_to_total_best_bits[seq_id])\n",
    "seq_id = sorted_organisms[1][1] # Second best id\n",
    "print(seqs_to_def[seq_id], 'with total score:', seqs_to_total_best_bits[seq_id])"
   ]
  },
  {
   "cell_type": "code",
   "execution_count": null,
   "metadata": {
    "collapsed": true
   },
   "outputs": [],
   "source": []
  }
 ],
 "metadata": {
  "kernelspec": {
   "display_name": "Python 3",
   "language": "python",
   "name": "python3"
  },
  "language_info": {
   "codemirror_mode": {
    "name": "ipython",
    "version": 3
   },
   "file_extension": ".py",
   "mimetype": "text/x-python",
   "name": "python",
   "nbconvert_exporter": "python",
   "pygments_lexer": "ipython3",
   "version": "3.5.1"
  }
 },
 "nbformat": 4,
 "nbformat_minor": 2
}
