{
 "cells": [
  {
   "cell_type": "markdown",
   "metadata": {},
   "source": [
    "# Summary\n",
    "Show how to retrieve list of genes for specified organisms\n",
    "\n",
    "## Workflow\n",
    "\n",
    "For a given assembly `accession.version`\n",
    "* Get a ref-seq id for assembly\n",
    "* Get a nuccore id for refseq-id\n",
    "* List all gene-ids for a assembly by its nuccoreid\n",
    "* For each gene\n",
    "    * Get gene info and display it   \n",
    "    * Get some pubmed relateed information"
   ]
  },
  {
   "cell_type": "code",
   "execution_count": 1,
   "metadata": {
    "hide_input": false
   },
   "outputs": [],
   "source": [
    "import requests\n",
    "import xml.etree.ElementTree as xml\n",
    "from IPython.display import HTML, display\n",
    "from Bio import Entrez\n",
    "\n",
    "#email Set the Entrez email parameter (default is not set).\n",
    "Entrez.email = \"great_team@hackathon.ncbi.org\"\n",
    "\n",
    "#tool Set the Entrez tool parameter (default is biopython).\n",
    "Entrez.tool = \"hackathon_examples\"\n",
    "\n",
    "def get_nuccore_id(uid):\n",
    "    \"\"\"\n",
    "    Get nuccore id by its refseq id.\n",
    "    \"\"\"\n",
    "    url = 'https://eutils.ncbi.nlm.nih.gov/entrez/eutils/elink.fcgi'\n",
    "    params = {'dbfrom': 'assembly', 'db':'nuccore', 'retmode':'json', 'id': uid}\n",
    "    r = requests.get(url, params=params)\n",
    "    if r.status_code != 200:\n",
    "        raise Exception(\"Cant nuccore id for specified assembly\")\n",
    "    doc = r.json()['linksets'][0]['linksetdbs']\n",
    "    for link in doc:\n",
    "        if link['linkname'] == \"assembly_nuccore_refseq\":\n",
    "            return int(link['links'][0])\n",
    "    else:\n",
    "        return int(doc[0]['links'][0])\n",
    "\n",
    "def list_genes(nuc_id):\n",
    "    \"\"\"\n",
    "    List genes for specified organism nuccore id.\n",
    "    \"\"\"\n",
    "    url = 'https://eutils.ncbi.nlm.nih.gov/entrez/eutils/elink.fcgi'\n",
    "    params = {'dbfrom':'nuccore', 'db': 'gene', 'retmode': 'json', 'id':nuc_id}\n",
    "    r = requests.get(url, params=params)\n",
    "    if r.status_code != 200:\n",
    "        raise Exception(\"Cant find annotation\")\n",
    "    return r.json()['linksets'][0]['linksetdbs'][0]['links']\n",
    "\n",
    "def annotate(accession, max_show = 100):\n",
    "    \"\"\"\n",
    "    For the given organism assembly build a table with first few genes.\n",
    "    \"\"\"\n",
    "    params = {'release':accession}\n",
    "    r = requests.get(\n",
    "        'https://www.ncbi.nlm.nih.gov/projects/r_gencoll/asm4portal/gc_assembly_svc.cgi',\n",
    "        params=params)\n",
    "    if r.status_code != 200:\n",
    "        raise Exception(\"Cant find assembly\")\n",
    "    doc = r.content.decode('utf-8')\n",
    "    root = xml.fromstring(doc)\n",
    "    refseq_id = int(root.attrib['uid'])\n",
    "    header = root.find('header')\n",
    "    organism_name = header.find('species-organism').text\n",
    "\n",
    "    html = \"<h1>\" + organism_name + \"</h1>\"\n",
    "    \n",
    "    handle = Entrez.esearch(db=\"pubmed\",term=organism_name)\n",
    "    search_results =Entrez.read(handle)\n",
    "\n",
    "    html += \"<p>\" + str(search_results['Count']) + \" pubmeds found</p>\" \n",
    "\n",
    "    nuccore_id = get_nuccore_id(refseq_id)\n",
    "\n",
    "    genes = list_genes(nuccore_id)\n",
    "\n",
    "    html += \"<h3> Genes: </h3>\"\n",
    "\n",
    "    html += \"<table>\"\n",
    "\n",
    "    html += \"<tr>\"\n",
    "        \n",
    "    html += \"<th> Gene Locus </th>\"\n",
    "    html += \"<th> Gene Name </th>\"\n",
    "    html += \"<th> Protein </th>\"\n",
    "    html += \"<th> Protein sequence </th>\"\n",
    "    html += \"<th> Number of Pubmed publications </th>\"\n",
    "    html += \"</tr>\"\n",
    "    for gene in genes[0:max_show]:\n",
    "        handle = Entrez.efetch(db=\"gene\", id=gene, retmode=\"xml\")\n",
    "        root = xml.fromstring(handle.read())\n",
    "        gene_node = root.find('Entrezgene')\n",
    "        gene_ref = gene_node.find('Entrezgene_gene').find('Gene-ref')\n",
    "        \n",
    "        locus_at = gene_ref.find('Gene-ref_locus')\n",
    "        locus_tag = gene_ref.find('Gene-ref_locus-tag')\n",
    "\n",
    "        terms = []\n",
    "        locus = \"n/a\"\n",
    "\n",
    "        try:\n",
    "            locus = locus_tag.text\n",
    "            terms.append(locus)\n",
    "        except:\n",
    "            pass\n",
    "        \n",
    "        try:\n",
    "            locus = locus_at.text\n",
    "            terms.append(locus)\n",
    "        except:\n",
    "            pass\n",
    "            \n",
    "        desk = gene_ref.find('Gene-ref_desc')\n",
    "        description = \"n/a\"\n",
    "        try:\n",
    "            description = desk.text\n",
    "        except:\n",
    "            pass\n",
    "        \n",
    "        prot_node = gene_node.find('Entrezgene_prot')\n",
    "        \n",
    "        prot = \"n/a\"\n",
    "        \n",
    "        if prot_node:\n",
    "            prot = prot_node.find('Prot-ref').find('Prot-ref_name').find('Prot-ref_name_E').text\n",
    "            terms.append(prot)\n",
    "            \n",
    "            \n",
    "        loc_node = gene_node.find('Entrezgene_locus')\n",
    "        com = loc_node.find('Gene-commentary')\n",
    "        prod = com.find('Gene-commentary_products')\n",
    "        prod_seq = \"n/a\"\n",
    "        prod_ver = \"n/a\"\n",
    "        if prod:\n",
    "            prod_com = prod.find('Gene-commentary')\n",
    "            if prod_com:\n",
    "                prod_seq = prod_com.find('Gene-commentary_accession').text\n",
    "                prod_ver = prod_com.find('Gene-commentary_version').text\n",
    "                terms.append(prod_seq)\n",
    "            \n",
    "        # Lookup pubs\n",
    "        query = \" or \".join([\"'%s'\" % (i) for i in terms])\n",
    "        handle = Entrez.esearch(db=\"pubmed\",term=query)\n",
    "        search_results =Entrez.read(handle)\n",
    "\n",
    "        html += \"<tr>\"\n",
    "        \n",
    "        html += \"<td>\" + locus + \"</td>\"\n",
    "        html += \"<td>\" + description + \"</td>\"\n",
    "        html += \"<td>\" + prot + \"</td>\"\n",
    "        html += \"<td>\" + prod_seq + \".\" + prod_ver + \"</td>\"\n",
    "        html += \"<td>\" + str(search_results['Count']) + \"</td>\" \n",
    "\n",
    "        html += \"</tr>\"\n",
    "    html += \"</table>\"\n",
    "\n",
    "    if len(genes) > max_show:\n",
    "        html += \"<p>And \" + str(len(genes) - max_show) + \" more... </p>\"\n",
    "\n",
    "    display(HTML(html))"
   ]
  },
  {
   "cell_type": "code",
   "execution_count": 2,
   "metadata": {
    "hide_input": false
   },
   "outputs": [],
   "source": [
    "accession = 'GCF_000013425.1'  # Organism Assembly"
   ]
  },
  {
   "cell_type": "code",
   "execution_count": 3,
   "metadata": {
    "scrolled": true
   },
   "outputs": [
    {
     "data": {
      "text/html": [
       "<h1>Staphylococcus aureus</h1><p>105227 pubmeds found</p><h3> Genes: </h3><table><tr><th> Gene Locus </th><th> Gene Name </th><th> Protein </th><th> Protein sequence </th><th> Number of Pubmed publications </th></tr><tr><td>SAOUHSC_3042a</td><td>n/a</td><td>SAOUHSC_13820</td><td>YP_008530245.1</td><td>0</td></tr><tr><td>SAOUHSC_03037a</td><td>n/a</td><td>membrane protein</td><td>YP_008530244.1</td><td>363</td></tr><tr><td>SAOUHSC_02512a</td><td>n/a</td><td>30S ribosomal protein S10</td><td>YP_008530243.1</td><td>1</td></tr><tr><td>SAOUHSC_01761a</td><td>n/a</td><td>membrane protein</td><td>YP_008530242.1</td><td>363</td></tr><tr><td>SAOUHSC_1342a</td><td>n/a</td><td>large-conductance mechanosensitive channel</td><td>YP_008530241.1</td><td>0</td></tr><tr><td>SAOUHSC_1307a</td><td>n/a</td><td>hypothetical protein</td><td>YP_008530240.1</td><td>363</td></tr><tr><td>SAOUHSC_01055a</td><td>n/a</td><td>membrane protein</td><td>YP_008530239.1</td><td>363</td></tr><tr><td>SAOUHSC_00381a</td><td>n/a</td><td>hypothetical protein</td><td>YP_008530238.1</td><td>363</td></tr><tr><td>SAOUHSC_02009</td><td>n/a</td><td>hypothetical protein</td><td>YP_500506.1</td><td>363</td></tr><tr><td>SAOUHSC_02008</td><td>n/a</td><td>hypothetical protein</td><td>YP_500505.1</td><td>363</td></tr><tr><td>SAOUHSC_02006</td><td>n/a</td><td>hypothetical protein</td><td>YP_500503.1</td><td>363</td></tr><tr><td>SAOUHSC_02005</td><td>n/a</td><td>A/G-specific adenine glycosylase</td><td>YP_500502.1</td><td>8</td></tr><tr><td>SAOUHSC_02004</td><td>n/a</td><td>hypothetical protein</td><td>YP_500501.1</td><td>363</td></tr><tr><td>SAOUHSC_02003</td><td>n/a</td><td>ABC transporter ATP-binding/permease</td><td>YP_500500.1</td><td>0</td></tr><tr><td>SAOUHSC_02002</td><td>n/a</td><td>hypothetical protein</td><td>YP_500499.1</td><td>363</td></tr><tr><td>SAOUHSC_02001</td><td>n/a</td><td>hypothetical protein</td><td>YP_500498.1</td><td>363</td></tr><tr><td>SAOUHSC_02000</td><td>n/a</td><td>glutamate-1-semialdehyde aminotransferase</td><td>YP_500497.2</td><td>1</td></tr><tr><td>SAOUHSC_01999</td><td>n/a</td><td>hypothetical protein</td><td>YP_500496.1</td><td>363</td></tr><tr><td>SAOUHSC_01998</td><td>n/a</td><td>hypothetical protein</td><td>YP_500495.1</td><td>363</td></tr><tr><td>SAOUHSC_01997</td><td>n/a</td><td>ferric uptake regulator-like protein</td><td>YP_500494.1</td><td>0</td></tr><tr><td>SAOUHSC_01993</td><td>n/a</td><td>n/a</td><td>n/a.n/a</td><td>0</td></tr><tr><td>SAOUHSC_01992</td><td>n/a</td><td>PTS system transporter subunit IIC domain-containing protein</td><td>YP_500489.1</td><td>0</td></tr><tr><td>SAOUHSC_01991</td><td>n/a</td><td>ABC transporter permease</td><td>YP_500488.1</td><td>1</td></tr><tr><td>SAOUHSC_01990</td><td>n/a</td><td>amino acid ABC transporter ATP-binding protein</td><td>YP_500487.1</td><td>0</td></tr><tr><td>SAOUHSC_01989</td><td>n/a</td><td>hypothetical protein</td><td>YP_500486.1</td><td>363</td></tr><tr><td>SAOUHSC_01988</td><td>n/a</td><td>hypothetical protein</td><td>YP_500485.1</td><td>363</td></tr><tr><td>SAOUHSC_02177</td><td>n/a</td><td>hypothetical protein</td><td>YP_500663.1</td><td>363</td></tr><tr><td>SAOUHSC_02176</td><td>n/a</td><td>hypothetical protein</td><td>YP_500662.1</td><td>363</td></tr><tr><td>SAOUHSC_02175</td><td>n/a</td><td>hypothetical protein</td><td>YP_500661.1</td><td>363</td></tr><tr><td>SAOUHSC_02174</td><td>n/a</td><td>phage phi LC3 family holin</td><td>YP_500660.1</td><td>0</td></tr><tr><td>SAOUHSC_02173</td><td>n/a</td><td>amidase</td><td>YP_500659.1</td><td>0</td></tr><tr><td>SAOUHSC_02171</td><td>n/a</td><td>staphylokinase</td><td>YP_500658.1</td><td>0</td></tr><tr><td>SAOUHSC_02170</td><td>n/a</td><td>peptidoglycan hydrolase</td><td>YP_500657.1</td><td>12</td></tr><tr><td>SAOUHSC_02169</td><td>n/a</td><td>chemotaxis-inhibiting protein CHIPS</td><td>YP_500656.1</td><td>5</td></tr><tr><td>SAOUHSC_02167</td><td>n/a</td><td>hypothetical protein</td><td>YP_500655.1</td><td>363</td></tr><tr><td>SAOUHSC_02166</td><td>n/a</td><td>hypothetical protein</td><td>YP_500654.1</td><td>363</td></tr><tr><td>SAOUHSC_02164</td><td>n/a</td><td>hypothetical protein</td><td>YP_500652.1</td><td>363</td></tr><tr><td>SAOUHSC_02161</td><td>n/a</td><td>MHC class II analog protein</td><td>YP_500650.1</td><td>0</td></tr><tr><td>SAOUHSC_02160</td><td>n/a</td><td>hypothetical protein</td><td>YP_500649.1</td><td>363</td></tr><tr><td>SAOUHSC_02158</td><td>n/a</td><td>hypothetical protein</td><td>YP_500648.1</td><td>363</td></tr><tr><td>SAOUHSC_02157</td><td>n/a</td><td>hypothetical protein</td><td>YP_500647.1</td><td>363</td></tr><tr><td>SAOUHSC_02156</td><td>n/a</td><td>hypothetical protein</td><td>YP_500646.1</td><td>363</td></tr><tr><td>SAOUHSC_02155</td><td>n/a</td><td>hypothetical protein</td><td>YP_500645.1</td><td>363</td></tr><tr><td>SAOUHSC_02154</td><td>n/a</td><td>ABC transporter ATP-binding protein</td><td>YP_500644.1</td><td>1</td></tr><tr><td>SAOUHSC_02153</td><td>n/a</td><td>hypothetical protein</td><td>YP_500643.1</td><td>363</td></tr><tr><td>SAOUHSC_02152</td><td>n/a</td><td>ABC transporter ATP-binding protein</td><td>YP_500642.1</td><td>1</td></tr><tr><td>SAOUHSC_02151</td><td>n/a</td><td>hypothetical protein</td><td>YP_500641.1</td><td>363</td></tr><tr><td>SAOUHSC_02150</td><td>n/a</td><td>hypothetical protein</td><td>YP_500640.1</td><td>363</td></tr><tr><td>SAOUHSC_02149</td><td>n/a</td><td>hypothetical protein</td><td>YP_500639.1</td><td>363</td></tr><tr><td>SAOUHSC_02148</td><td>n/a</td><td>hypothetical protein</td><td>YP_500638.1</td><td>363</td></tr><tr><td>SAOUHSC_02147</td><td>n/a</td><td>hypothetical protein</td><td>YP_500637.1</td><td>363</td></tr><tr><td>SAOUHSC_02146</td><td>n/a</td><td>hypothetical protein</td><td>YP_500636.1</td><td>363</td></tr><tr><td>SAOUHSC_02145</td><td>n/a</td><td>hypothetical protein</td><td>YP_500635.1</td><td>363</td></tr><tr><td>SAOUHSC_02144</td><td>n/a</td><td>hypothetical protein</td><td>YP_500634.1</td><td>363</td></tr><tr><td>SAOUHSC_02143</td><td>n/a</td><td>hypothetical protein</td><td>YP_500633.1</td><td>363</td></tr><tr><td>SAOUHSC_02142</td><td>n/a</td><td>aldehyde dehydrogenase</td><td>YP_500632.1</td><td>20</td></tr><tr><td>SAOUHSC_02141</td><td>n/a</td><td>hypothetical protein</td><td>YP_500631.1</td><td>363</td></tr><tr><td>SAOUHSC_02140</td><td>n/a</td><td>manganese-dependent inorganic pyrophosphatase</td><td>YP_500630.1</td><td>80638</td></tr><tr><td>SAOUHSC_02139</td><td>n/a</td><td>pyrazinamidase/nicotinamidase</td><td>YP_500629.1</td><td>0</td></tr><tr><td>SAOUHSC_02138</td><td>n/a</td><td>hypothetical protein</td><td>YP_500628.1</td><td>363</td></tr><tr><td>SAOUHSC_02137</td><td>n/a</td><td>sodium-dependent transporter</td><td>YP_500627.1</td><td>34</td></tr><tr><td>SAOUHSC_02136</td><td>n/a</td><td>hypothetical protein</td><td>YP_500626.1</td><td>363</td></tr><tr><td>SAOUHSC_02135</td><td>n/a</td><td>hypothetical protein</td><td>YP_500625.1</td><td>363</td></tr><tr><td>SAOUHSC_00358</td><td>n/a</td><td>hypothetical protein</td><td>YP_498947.1</td><td>363</td></tr><tr><td>SAOUHSC_00357</td><td>n/a</td><td>hypothetical protein</td><td>YP_498946.1</td><td>363</td></tr><tr><td>SAOUHSC_00356</td><td>n/a</td><td>hypothetical protein</td><td>YP_498945.1</td><td>363</td></tr><tr><td>SAOUHSC_00355</td><td>n/a</td><td>hypothetical protein</td><td>YP_498944.1</td><td>363</td></tr><tr><td>SAOUHSC_00354</td><td>n/a</td><td>hypothetical protein</td><td>YP_498943.1</td><td>363</td></tr><tr><td>SAOUHSC_00353</td><td>n/a</td><td>hypothetical protein</td><td>YP_498942.1</td><td>363</td></tr><tr><td>SAOUHSC_00352</td><td>n/a</td><td>integrase-like protein</td><td>YP_498941.1</td><td>363</td></tr><tr><td>SAOUHSC_00351</td><td>n/a</td><td>hypothetical protein</td><td>YP_498940.1</td><td>363</td></tr><tr><td>rpsR</td><td>n/a</td><td>30S ribosomal protein S18</td><td>YP_498939.1</td><td>0</td></tr><tr><td>SAOUHSC_00349</td><td>n/a</td><td>bacteriophage L54a single-stranded DNA binding protein</td><td>YP_498938.1</td><td>0</td></tr><tr><td>rpsF</td><td>n/a</td><td>30S ribosomal protein S6</td><td>YP_498937.1</td><td>0</td></tr><tr><td>SAOUHSC_00347</td><td>n/a</td><td>hypothetical protein</td><td>YP_498936.1</td><td>363</td></tr><tr><td>SAOUHSC_00346</td><td>n/a</td><td>GTP-dependent nucleic acid-binding protein EngD</td><td>YP_498935.1</td><td>2276</td></tr><tr><td>SAOUHSC_00345</td><td>n/a</td><td>hypothetical protein</td><td>YP_498934.1</td><td>363</td></tr><tr><td>SAOUHSC_00344</td><td>n/a</td><td>hypothetical protein</td><td>YP_498933.1</td><td>363</td></tr><tr><td>SAOUHSC_00342</td><td>n/a</td><td>ParB family chromosome partioning protein</td><td>YP_498932.1</td><td>0</td></tr><tr><td>SAOUHSC_00341</td><td>n/a</td><td>hypothetical protein</td><td>YP_498931.1</td><td>363</td></tr><tr><td>SAOUHSC_00340</td><td>n/a</td><td>trans-sulfuration enzyme family protein</td><td>YP_498930.1</td><td>9</td></tr><tr><td>SAOUHSC_00339</td><td>n/a</td><td>bifunctional homocysteine S-methyltransferase/5,10-methylenetetrahydrofolate reductase</td><td>YP_498929.1</td><td>0</td></tr><tr><td>SAOUHSC_00338</td><td>n/a</td><td>5-methyltetrahydropteroyltriglutamate--homocysteine S-methyltransferase</td><td>YP_498928.1</td><td>0</td></tr><tr><td>SAOUHSC_01699</td><td>n/a</td><td>shikimate 5-dehydrogenase</td><td>YP_500209.1</td><td>0</td></tr><tr><td>SAOUHSC_01698</td><td>n/a</td><td>hypothetical protein</td><td>YP_500208.1</td><td>363</td></tr><tr><td>SAOUHSC_01697</td><td>n/a</td><td>nicotinate (nicotinamide) nucleotide adenylyltransferase</td><td>YP_500207.1</td><td>0</td></tr><tr><td>SAOUHSC_01696</td><td>n/a</td><td>hypothetical protein</td><td>YP_500206.1</td><td>363</td></tr><tr><td>SAOUHSC_01695</td><td>n/a</td><td>hypothetical protein</td><td>YP_500205.1</td><td>363</td></tr><tr><td>SAOUHSC_01694</td><td>n/a</td><td>hypothetical protein</td><td>YP_500204.1</td><td>363</td></tr><tr><td>SAOUHSC_01693</td><td>n/a</td><td>hypothetical protein</td><td>YP_500203.1</td><td>363</td></tr><tr><td>SAOUHSC_01692</td><td>n/a</td><td>hypothetical protein</td><td>YP_500202.1</td><td>363</td></tr><tr><td>SAOUHSC_01691</td><td>n/a</td><td>DNA internalization-related competence protein ComEC/Rec2</td><td>YP_500201.1</td><td>0</td></tr><tr><td>holA</td><td>n/a</td><td>DNA polymerase III subunit delta</td><td>YP_500200.1</td><td>57</td></tr><tr><td>rpsT</td><td>n/a</td><td>30S ribosomal protein S20</td><td>YP_500199.1</td><td>63668</td></tr><tr><td>SAOUHSC_01688</td><td>n/a</td><td>GTP-binding protein LepA</td><td>YP_500198.1</td><td>6456772</td></tr><tr><td>SAOUHSC_01687</td><td>n/a</td><td>hypothetical protein</td><td>YP_500197.1</td><td>363</td></tr><tr><td>SAOUHSC_01686</td><td>n/a</td><td>coproporphyrinogen III oxidase</td><td>YP_500196.1</td><td>1</td></tr><tr><td>SAOUHSC_01685</td><td>n/a</td><td>heat-inducible transcription repressor HrcA</td><td>YP_500195.1</td><td>34630</td></tr><tr><td>SAOUHSC_01684</td><td>n/a</td><td>heat shock protein GrpE</td><td>YP_500194.1</td><td>1</td></tr><tr><td>dnaK</td><td>n/a</td><td>molecular chaperone DnaK</td><td>YP_500193.1</td><td>1</td></tr></table><p>And 2772 more... </p>"
      ],
      "text/plain": [
       "<IPython.core.display.HTML object>"
      ]
     },
     "metadata": {},
     "output_type": "display_data"
    },
    {
     "name": "stdout",
     "output_type": "stream",
     "text": [
      "CPU times: user 800 ms, sys: 52 ms, total: 852 ms\n",
      "Wall time: 1min 9s\n"
     ]
    }
   ],
   "source": [
    "%%time\n",
    "\n",
    "annotate(accession, 100)"
   ]
  }
 ],
 "metadata": {
  "kernelspec": {
   "display_name": "Python 3",
   "language": "python",
   "name": "python3"
  },
  "language_info": {
   "codemirror_mode": {
    "name": "ipython",
    "version": 3
   },
   "file_extension": ".py",
   "mimetype": "text/x-python",
   "name": "python",
   "nbconvert_exporter": "python",
   "pygments_lexer": "ipython3",
   "version": "3.5.2"
  }
 },
 "nbformat": 4,
 "nbformat_minor": 2
}
