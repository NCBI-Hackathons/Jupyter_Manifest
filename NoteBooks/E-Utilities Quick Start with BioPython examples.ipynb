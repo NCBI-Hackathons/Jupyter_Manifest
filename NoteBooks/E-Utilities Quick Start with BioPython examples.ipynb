{
 "cells": [
  {
   "cell_type": "markdown",
   "metadata": {},
   "source": [
    "# Introduction\n",
    "A brief overview of basic E-utility functions along with examples in BioPython."
   ]
  },
  {
   "cell_type": "markdown",
   "metadata": {},
   "source": [
    "Note: Make sure BioPython is installed"
   ]
  },
  {
   "cell_type": "code",
   "execution_count": 1,
   "metadata": {},
   "outputs": [],
   "source": [
    "from Bio import Entrez\n",
    "\n",
    "#email Set the Entrez email parameter (default is not set).\n",
    "Entrez.email = \"great_team@hackathon.ncbi.org\"\n",
    "\n",
    "#tool Set the Entrez tool parameter (default is biopython).\n",
    "Entrez.tool = \"hackathon_examples\""
   ]
  },
  {
   "cell_type": "markdown",
   "metadata": {},
   "source": [
    "## einfo\n",
    "Provides field index term counts, last update, and available links for each database.\n",
    "\n",
    "Example: If no database parameter is supplied, einfo will return a list of all valid Entrez databases."
   ]
  },
  {
   "cell_type": "code",
   "execution_count": 13,
   "metadata": {
    "scrolled": true
   },
   "outputs": [
    {
     "name": "stdout",
     "output_type": "stream",
     "text": [
      "Available Databases: pubmed ,protein ,nuccore ,ipg ,nucleotide ,nucgss ,nucest ,structure ,sparcle ,genome ,annotinfo ,assembly ,bioproject ,biosample ,blastdbinfo ,books ,cdd ,clinvar ,clone ,gap ,gapplus ,grasp ,dbvar ,gene ,gds ,geoprofiles ,homologene ,medgen ,mesh ,ncbisearch ,nlmcatalog ,omim ,orgtrack ,pmc ,popset ,probe ,proteinclusters ,pcassay ,biosystems ,pccompound ,pcsubstance ,pubmedhealth ,seqannot ,snp ,sra ,taxonomy ,biocollections ,unigene ,gencoll ,gtr\n"
     ]
    }
   ],
   "source": [
    "handle = Entrez.einfo()\n",
    "db_info = Entrez.read(handle)\n",
    "handle.close()\n",
    "print( \"Available Databases: %s\" % (' ,'.join(db_info[\"DbList\"])))"
   ]
  },
  {
   "cell_type": "markdown",
   "metadata": {},
   "source": [
    "Example: Find database statistics for Entrez Protein."
   ]
  },
  {
   "cell_type": "code",
   "execution_count": 3,
   "metadata": {},
   "outputs": [
    {
     "name": "stdout",
     "output_type": "stream",
     "text": [
      "DB: Protein\n",
      "Count: 456909504\n",
      "DbBuild: Build171106-1116m.1\n"
     ]
    }
   ],
   "source": [
    "db='protein'\n",
    "handle = Entrez.einfo(db=db)\n",
    "protein_db_info = Entrez.read(handle)\n",
    "handle.close()\n",
    "dbInfo = protein_db_info['DbInfo']\n",
    "print( 'DB: '+dbInfo['MenuName'])\n",
    "print( 'Count: '+dbInfo['Count'])\n",
    "print( 'DbBuild: '+dbInfo['DbBuild'])"
   ]
  },
  {
   "cell_type": "markdown",
   "metadata": {},
   "source": [
    "## esearch\n",
    "\n",
    "Searches and retrieves primary IDs (for use in EFetch, ELink, and ESummary) and term translations and optionally retains results for future use in the user's environment.\n",
    "\n",
    "Example: search Entrez pubmed for breast cancer articles published in Science during 2008."
   ]
  },
  {
   "cell_type": "code",
   "execution_count": 4,
   "metadata": {},
   "outputs": [
    {
     "name": "stdout",
     "output_type": "stream",
     "text": [
      "QueryKey: 1 in WebEnv: NCID_1_45725515_130.14.18.34_9001_1510159928_560518390_0MetA0_S_MegaStore_F_1\n",
      "Found 6 Pubmed IDs: [19008416, 18927361, 18787170, 18487186, 18239126, 18239125]\n"
     ]
    }
   ],
   "source": [
    "db    = 'pubmed'\n",
    "query = 'science[journal] AND breast cancer AND 2008[pdat]'\n",
    "\n",
    "handle = Entrez.esearch(db, query, useHistory=True)\n",
    "search_results =Entrez.read(handle)\n",
    "handle.close()\n",
    "print('QueryKey: %s in WebEnv: %s' % ( search_results['QueryKey'], search_results['WebEnv']))\n",
    "print('Found %s Pubmed IDs: [%s]' % (search_results['Count'], ', '.join(search_results['IdList'])))"
   ]
  },
  {
   "cell_type": "markdown",
   "metadata": {},
   "source": [
    "## esummary\n",
    "\n",
    "Retrieves document summaries from a list of primary IDs or from the user's environment.\n",
    "\n",
    "Example: retrieve summaries and display titles"
   ]
  },
  {
   "cell_type": "code",
   "execution_count": 5,
   "metadata": {},
   "outputs": [
    {
     "name": "stdout",
     "output_type": "stream",
     "text": [
      "Title: Genomic loss of microRNA-101 leads to overexpression of histone methyltransferase EZH2 in cancer.\n",
      "Title: Genetics. DNA test for breast cancer risk draws criticism.\n",
      "Title: FBXW7 targets mTOR for degradation and cooperates with PTEN in tumor suppression.\n",
      "Title: Design logic of a cannabinoid receptor signaling network that triggers neurite outgrowth.\n",
      "Title: Cancer proliferation gene discovery through functional genomics.\n",
      "Title: Profiling essential genes in human mammary cells by multiplex RNAi screening.\n"
     ]
    }
   ],
   "source": [
    "handle = Entrez.esummary(db=db, id=','.join(search_results['IdList']))\n",
    "\n",
    "summaries = Entrez.read(handle)\n",
    "handle.close()\n",
    "\n",
    "for title in [summary['Title'] for summary in summaries]:\n",
    "    print(\"Title: \"+title)"
   ]
  },
  {
   "cell_type": "markdown",
   "metadata": {},
   "source": [
    "## elink\n",
    "Checks for the existence of an external or Related Articles link from a list of one or more primary IDs. \n",
    "Retrieves primary IDs and relevancy scores for links to Entrez databases or Related Articles; creates a hyperlink to the primary LinkOut provider for a specific ID and database, or lists LinkOut URLs and Attributes for multiple IDs.\n",
    "\n",
    "Example: Find related items related to initial article (PMID:19008416)"
   ]
  },
  {
   "cell_type": "code",
   "execution_count": 6,
   "metadata": {},
   "outputs": [
    {
     "name": "stdout",
     "output_type": "stream",
     "text": [
      "pubmed_pubmed has 267 links\n",
      "pubmed_pubmed_alsoviewed has 17 links\n",
      "pubmed_pubmed_citedin has 324 links\n",
      "pubmed_pubmed_combined has 6 links\n",
      "pubmed_pubmed_five has 6 links\n",
      "pubmed_pubmed_refs has 25 links\n",
      "pubmed_pubmed_reviews has 35 links\n",
      "pubmed_pubmed_reviews_five has 6 links\n"
     ]
    }
   ],
   "source": [
    "db = 'pubmed'\n",
    "id = 19008416\n",
    "handle = Entrez.elink(db=db, id=id)\n",
    "\n",
    "for linkset in Entrez.read(handle):\n",
    "    linksetdb=linkset['LinkSetDb']\n",
    "    for links in linksetdb:\n",
    "         print('%s has %d links' % (links['LinkName'], len(links['Link'])))\n",
    "            \n",
    "handle.close()\n"
   ]
  },
  {
   "cell_type": "markdown",
   "metadata": {},
   "source": [
    "## efetch\n",
    "Retrieves records in the requested format from a list of one or more primary IDs or from the user's environment"
   ]
  },
  {
   "cell_type": "code",
   "execution_count": 7,
   "metadata": {},
   "outputs": [
    {
     "name": "stdout",
     "output_type": "stream",
     "text": [
      "Showing 10 of 42 lines\n",
      ">NM_001126.3 Homo sapiens adenylosuccinate synthase (ADSS), mRNA\n",
      "ACGGGAGTGGCGCGCCAGGCCGCGGAAGGGGCGTGGCCTCGGTCCGGGGTGGCGGCCGTTGCCGCCACCA\n",
      "GGGCCTCTTCCTGCGGGCGGTGCTGCCGAGGCCGGCCTGCGCGGGGCAGTCATGGTACCCCCTTGAGCGG\n",
      "GCTGTGGCGGAGAGCGGGGCGGGGACTGGCTGGAGGGTGGCGGCCCGGCGGGGCGGGGGCGGGGCCGGCC\n",
      "TCTGGCTCCTTCTTCCTCTGCATGTGGCTGGCGGCCGCAGAGCAGTTCAGTTCGCTCACTCCTCGCCGGC\n",
      "CGCCTCTCCTTCGGGCTCTCCTCGCGTCACTGGAGCCATGGCGTTCGCCGAGACCTACCCGGCGGCATCC\n",
      "TCCCTGCCCAACGGCGATTGCGGCCGCCCCAGGGCGCGGCCCGGAGGAAACCGGGTGACGGTGGTGCTCG\n",
      "GTGCGCAGTGGGGCGACGAAGGCAAAGGGAAGGTGGTGGACCTGCTGGCGCAGGACGCCGACATCGTGTG\n",
      "CCGCTGCCAGGGAGGAAATAATGCTGGCCATACAGTTGTTGTGGATTCTGTGGAATATGATTTTCATCTC\n",
      "TTACCCAGTGGAATAATTAATCCAAATGTCACTGCATTCATTGGAAATGGTGTGGTAATTCATCTACCTG\n"
     ]
    }
   ],
   "source": [
    "db = 'nuccore'\n",
    "return_type = 'fasta'\n",
    "query = 'NM_001126.3'\n",
    "number_of_rows_to_display = 10\n",
    "\n",
    "handle = Entrez.esearch(db=db, term=query)\n",
    "search_results = Entrez.read(handle)\n",
    "handle.close()\n",
    "\n",
    "f = Entrez.efetch(db=db, id=search_results['IdList'], rettype=return_type)\n",
    "data = f.read().splitlines()\n",
    "print(\"Showing %s of %s lines\" % (number_of_rows_to_display, len(data)))\n",
    "for line in data[:number_of_rows_to_display]:\n",
    "    print(line)\n",
    "f.close()"
   ]
  },
  {
   "cell_type": "markdown",
   "metadata": {},
   "source": [
    "## egquery\n",
    "Provides Entrez database counts for a single search using Global Query."
   ]
  },
  {
   "cell_type": "code",
   "execution_count": 8,
   "metadata": {},
   "outputs": [
    {
     "name": "stdout",
     "output_type": "stream",
     "text": [
      "DB:nuccore found 1 results\n",
      "DB:snp found 5286 results\n",
      "DB:gene found 1 results\n",
      "DB:unigene found 1 results\n",
      "DB:homologene found 1 results\n"
     ]
    }
   ],
   "source": [
    "query = 'NM_001126.3'\n",
    "\n",
    "handle = Entrez.egquery(term=query)\n",
    "results = Entrez.read(handle)\n",
    "\n",
    "output = [r for r in results['eGQueryResult'] if r['Count'] != \"0\"]\n",
    "for result in output:\n",
    "    print('DB:%s found %s results' % (result['DbName'], result['Count']))"
   ]
  },
  {
   "cell_type": "markdown",
   "metadata": {},
   "source": [
    "## espell\n",
    "Retrieves spelling suggestions."
   ]
  },
  {
   "cell_type": "code",
   "execution_count": 9,
   "metadata": {},
   "outputs": [
    {
     "name": "stdout",
     "output_type": "stream",
     "text": [
      "gene transcript protein\n"
     ]
    }
   ],
   "source": [
    "query = 'geene transxript protien'\n",
    "\n",
    "handle = Entrez.espell(term=query)\n",
    "\n",
    "corrected = Entrez.read(handle)\n",
    "\n",
    "print(corrected['CorrectedQuery'])"
   ]
  },
  {
   "cell_type": "markdown",
   "metadata": {},
   "source": [
    "## ecitmatch\n",
    "Retrieves PubMed IDs (PMIDs) that correspond to a set of input citation strings.\n",
    "\n",
    "Example: retrieve PMID for multiple citations, and display their titles."
   ]
  },
  {
   "cell_type": "code",
   "execution_count": 10,
   "metadata": {},
   "outputs": [
    {
     "name": "stdout",
     "output_type": "stream",
     "text": [
      "['proc natl acad sci u s a', '1991', '', '', 'mann bj', 'citation_1', '2014248']\n",
      "Sequence of a cysteine-rich galactose-specific lectin of Entamoeba histolytica.\n",
      "['PLoS One', '2016', '', '', 'pick l', '', '27723822']\n",
      "Activation of Ftz-F1-Responsive Genes through Ftz/Ftz-F1 Dependent Enhancers.\n"
     ]
    }
   ],
   "source": [
    "db = 'pubmed'\n",
    "citations = [{\"journal_title\": \"proc natl acad sci u s a\", \"x\": 1, \"year\": \"1991\", \"author_name\": \"mann bj\", \"key\": \"citation_1\"},\n",
    "             {\"journal_title\": \"PLoS One\", \"year\": \"2016\", \"author_name\": \"pick l\" }]\n",
    "\n",
    "handle = Entrez.ecitmatch(db=db, bdata=citations)\n",
    "\n",
    "tmp = handle.read().strip().split('\\n')\n",
    "results = [i.split(\"|\") for i in tmp]\n",
    "\n",
    "for result in results:\n",
    "    print(result)\n",
    "    print(Entrez.read(Entrez.esummary(db=db, id=result[6]))[0]['Title'])\n"
   ]
  },
  {
   "cell_type": "markdown",
   "metadata": {},
   "source": [
    "## epost\n",
    "Posts a file containing a list of primary IDs for future use in the user's environment to use with subsequent search strategies\n",
    "\n",
    "Example: upload a list nuccore ids and retrieve summaries and sequences"
   ]
  },
  {
   "cell_type": "code",
   "execution_count": 11,
   "metadata": {},
   "outputs": [
    {
     "name": "stdout",
     "output_type": "stream",
     "text": [
      "{'WebEnv': 'NCID_1_15171705_130.14.22.215_9001_1510159932_1922208742_0MetA0_S_MegaStore_F_1', 'QueryKey': '1'}\n",
      "Title: Homo sapiens adenylosuccinate synthase (ADSS), mRNA\n",
      "Showing 20 of 42 lines\n",
      ">NM_001126.3 Homo sapiens adenylosuccinate synthase (ADSS), mRNA\n",
      "ACGGGAGTGGCGCGCCAGGCCGCGGAAGGGGCGTGGCCTCGGTCCGGGGTGGCGGCCGTTGCCGCCACCA\n",
      "GGGCCTCTTCCTGCGGGCGGTGCTGCCGAGGCCGGCCTGCGCGGGGCAGTCATGGTACCCCCTTGAGCGG\n",
      "GCTGTGGCGGAGAGCGGGGCGGGGACTGGCTGGAGGGTGGCGGCCCGGCGGGGCGGGGGCGGGGCCGGCC\n",
      "TCTGGCTCCTTCTTCCTCTGCATGTGGCTGGCGGCCGCAGAGCAGTTCAGTTCGCTCACTCCTCGCCGGC\n",
      "CGCCTCTCCTTCGGGCTCTCCTCGCGTCACTGGAGCCATGGCGTTCGCCGAGACCTACCCGGCGGCATCC\n",
      "TCCCTGCCCAACGGCGATTGCGGCCGCCCCAGGGCGCGGCCCGGAGGAAACCGGGTGACGGTGGTGCTCG\n",
      "GTGCGCAGTGGGGCGACGAAGGCAAAGGGAAGGTGGTGGACCTGCTGGCGCAGGACGCCGACATCGTGTG\n",
      "CCGCTGCCAGGGAGGAAATAATGCTGGCCATACAGTTGTTGTGGATTCTGTGGAATATGATTTTCATCTC\n",
      "TTACCCAGTGGAATAATTAATCCAAATGTCACTGCATTCATTGGAAATGGTGTGGTAATTCATCTACCTG\n",
      "GATTGTTTGAAGAAGCAGAGAAAAATGTTCAAAAAGGAAAAGGACTAGAAGGCTGGGAAAAAAGGCTTAT\n",
      "TATATCTGACAGAGCTCATATTGTATTTGATTTTCATCAAGCAGCTGATGGTATCCAGGAACAACAGAGA\n",
      "CAAGAACAAGCAGGAAAAAATTTGGGTACAACAAAAAAGGGCATTGGCCCAGTTTATTCGTCCAAAGCTG\n",
      "CTCGGAGTGGACTCAGGATGTGCGACCTTGTTTCTGACTTTGATGGCTTCTCTGAGAGGTTTAAAGTTCT\n",
      "AGCTAACCAATACAAATCTATATACCCCACTTTGGAAATAGACATTGAAGGTGAATTACAAAAACTCAAG\n",
      "GGTTATATGGAAAAGATTAAACCAATGGTGAGAGATGGAGTTTATTTTCTATATGAGGCCCTACATGGAC\n",
      "CACCAAAGAAAATCTTGGTAGAAGGTGCAAATGCAGCACTATTAGATATTGATTTTGGGACTTACCCTTT\n",
      "TGTAACCTCTTCAAATTGTACTGTTGGAGGTGTTTGTACTGGTTTGGGTATGCCACCTCAAAATGTTGGA\n",
      "GAAGTGTATGGAGTTGTGAAAGCTTATACAACTAGAGTTGGTATTGGTGCCTTTCCTACAGAGCAAGACA\n",
      "ATGAAATTGGAGAATTATTACAAACAAGGGGTAGAGAGTTTGGTGTAACTACTGGAAGGAAAAGAAGATG\n"
     ]
    }
   ],
   "source": [
    "db = 'nuccore'\n",
    "ids = search_results['IdList']\n",
    "rettype = 'fasta'\n",
    "number_of_rows_to_display = 20\n",
    "\n",
    "handle = Entrez.epost(db=db, id=','.join(ids))\n",
    "env = Entrez.read(handle)\n",
    "print(env)\n",
    "\n",
    "handle2 = Entrez.esummary(db=db, query_key=env['QueryKey'], WebEnv=env['WebEnv'])\n",
    "\n",
    "summaries = Entrez.read(handle2)\n",
    "handle.close()\n",
    "\n",
    "for title in [summary['Title'] for summary in summaries]:\n",
    "    print(\"Title: \"+title)\n",
    "    \n",
    "fetch = Entrez.efetch(db=db, rettype=rettype, query_key=env['QueryKey'], WebEnv=env['WebEnv'])\n",
    "\n",
    "data = fetch.read().splitlines()\n",
    "print(\"Showing %s of %s lines\" % (number_of_rows_to_display, len(data)))\n",
    "for line in data[:number_of_rows_to_display]:\n",
    "    print(line)\n",
    "fetch.close()"
   ]
  },
  {
   "cell_type": "code",
   "execution_count": null,
   "metadata": {},
   "outputs": [],
   "source": []
  }
 ],
 "metadata": {
  "kernelspec": {
   "display_name": "Python 3",
   "language": "python",
   "name": "python3"
  },
  "language_info": {
   "codemirror_mode": {
    "name": "ipython",
    "version": 3
   },
   "file_extension": ".py",
   "mimetype": "text/x-python",
   "name": "python",
   "nbconvert_exporter": "python",
   "pygments_lexer": "ipython3",
   "version": "3.5.2"
  }
 },
 "nbformat": 4,
 "nbformat_minor": 2
}
